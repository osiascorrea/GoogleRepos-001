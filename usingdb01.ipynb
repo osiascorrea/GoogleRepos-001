{
  "nbformat": 4,
  "nbformat_minor": 0,
  "metadata": {
    "colab": {
      "provenance": [],
      "authorship_tag": "ABX9TyO3QGwMTIrJpzKplf33/G/u",
      "include_colab_link": true
    },
    "kernelspec": {
      "name": "python3",
      "display_name": "Python 3"
    },
    "language_info": {
      "name": "python"
    }
  },
  "cells": [
    {
      "cell_type": "markdown",
      "metadata": {
        "id": "view-in-github",
        "colab_type": "text"
      },
      "source": [
        "<a href=\"https://colab.research.google.com/github/osiascorrea/GoogleRepos-001/blob/main/usingdb01.ipynb\" target=\"_parent\"><img src=\"https://colab.research.google.com/assets/colab-badge.svg\" alt=\"Open In Colab\"/></a>"
      ]
    },
    {
      "cell_type": "code",
      "execution_count": null,
      "metadata": {
        "colab": {
          "base_uri": "https://localhost:8080/"
        },
        "id": "jPi6-CoItimD",
        "outputId": "e77c7a35-8919-4b96-b20c-daad00463659"
      },
      "outputs": [
        {
          "output_type": "stream",
          "name": "stdout",
          "text": [
            "Enter your name: Camrade Kamla Harris\n",
            "Enter your email: camredharris@mail.com\n",
            "Data inserted successfully!\n"
          ]
        }
      ],
      "source": [
        "# prompt: write a python code to get user input in a database of your choice\n",
        "\n",
        "import sqlite3\n",
        "\n",
        "# Connect to the database (or create it if it doesn't exist)\n",
        "conn = sqlite3.connect('mydatabase.db')\n",
        "cursor = conn.cursor()\n",
        "\n",
        "# Create a table if it doesn't exist\n",
        "cursor.execute('''CREATE TABLE IF NOT EXISTS users\n",
        "                (id INTEGER PRIMARY KEY AUTOINCREMENT,\n",
        "                 name TEXT NOT NULL,\n",
        "                 email TEXT NOT NULL)''')\n",
        "\n",
        "# Get user input\n",
        "name = input(\"Enter your name: \")\n",
        "email = input(\"Enter your email: \")\n",
        "\n",
        "# Insert data into the table\n",
        "cursor.execute(\"INSERT INTO users (name, email) VALUES (?, ?)\", (name, email))\n",
        "\n",
        "# Commit the changes\n",
        "conn.commit()\n",
        "\n",
        "print(\"Data inserted successfully!\")\n",
        "\n",
        "# Close the connection\n",
        "conn.close()\n"
      ]
    },
    {
      "cell_type": "code",
      "source": [
        "# prompt: create a python code to select * from this table created in this database, including the db connection\n",
        "\n",
        "import sqlite3\n",
        "\n",
        "# Connect to the database\n",
        "conn = sqlite3.connect('mydatabase.db')\n",
        "cursor = conn.cursor()\n",
        "\n",
        "# Select all data from the table\n",
        "cursor.execute(\"SELECT * FROM users\")\n",
        "\n",
        "# Fetch all rows\n",
        "rows = cursor.fetchall()\n",
        "\n",
        "# Print the results\n",
        "for row in rows:\n",
        "  print(row)\n",
        "\n",
        "# Close the connection\n",
        "conn.close()\n"
      ],
      "metadata": {
        "colab": {
          "base_uri": "https://localhost:8080/"
        },
        "id": "SzPEXUjPyApa",
        "outputId": "c05e79a7-7c8b-4a17-9e45-c8115e2d5788"
      },
      "execution_count": null,
      "outputs": [
        {
          "output_type": "stream",
          "name": "stdout",
          "text": [
            "(1, 'Camrade Kamla Harris', 'camredharris@mail.com')\n"
          ]
        }
      ]
    },
    {
      "cell_type": "code",
      "source": [
        "from google.colab import drive\n",
        "drive.mount('/content/drive')"
      ],
      "metadata": {
        "id": "MC22FxinylV5"
      },
      "execution_count": null,
      "outputs": []
    }
  ]
}